{
 "cells": [
  {
   "cell_type": "markdown",
   "id": "0995f2b5-aaf8-4953-8633-9c359f3d89a5",
   "metadata": {},
   "source": [
    "# Assignment 1\n",
    "\n",
    "## I managed to make a notebook now :)\n"
   ]
  },
  {
   "cell_type": "code",
   "execution_count": 6,
   "id": "b01399e3-f376-41f5-8524-fc16bcdbb582",
   "metadata": {},
   "outputs": [
    {
     "data": {
      "text/plain": [
       "2"
      ]
     },
     "execution_count": 6,
     "metadata": {},
     "output_type": "execute_result"
    }
   ],
   "source": [
    "1 + 1 "
   ]
  },
  {
   "cell_type": "code",
   "execution_count": 7,
   "id": "98ce4527-d12f-49e0-8aee-a5d1b630f7ff",
   "metadata": {},
   "outputs": [
    {
     "name": "stdout",
     "output_type": "stream",
     "text": [
      "this is text in a jupyter notebook\n"
     ]
    }
   ],
   "source": [
    "print(\"this is text in a jupyter notebook\")"
   ]
  },
  {
   "cell_type": "markdown",
   "id": "a81635da-d8d5-43e7-b960-d7dd6e2952e4",
   "metadata": {},
   "source": [
    "**bold text** \n",
    "\n",
    "_italics text_"
   ]
  },
  {
   "cell_type": "code",
   "execution_count": null,
   "id": "e40cb33f-4c7e-4813-b564-6b78a0d0e807",
   "metadata": {},
   "outputs": [],
   "source": []
  }
 ],
 "metadata": {
  "kernelspec": {
   "display_name": "Python 3 ",
   "language": "python",
   "name": "python3"
  },
  "language_info": {
   "codemirror_mode": {
    "name": "ipython",
    "version": 3
   },
   "file_extension": ".py",
   "mimetype": "text/x-python",
   "name": "python",
   "nbconvert_exporter": "python",
   "pygments_lexer": "ipython3",
   "version": "3.10.14"
  }
 },
 "nbformat": 4,
 "nbformat_minor": 5
}
