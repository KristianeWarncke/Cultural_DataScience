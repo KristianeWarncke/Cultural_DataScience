{
 "cells": [
  {
   "cell_type": "markdown",
   "id": "1a846cfe-d705-4f1f-866b-b4b370af384d",
   "metadata": {},
   "source": [
    "# Part 1 - The basics"
   ]
  },
  {
   "cell_type": "markdown",
   "id": "223204e5-f880-46d3-b81f-63e24071759b",
   "metadata": {},
   "source": [
    "R is just a calculator."
   ]
  },
  {
   "cell_type": "code",
   "execution_count": 1,
   "id": "21e221b0-07e2-49e1-b9a9-c3950d59cf3d",
   "metadata": {},
   "outputs": [
    {
     "data": {
      "text/html": [
       "7"
      ],
      "text/latex": [
       "7"
      ],
      "text/markdown": [
       "7"
      ],
      "text/plain": [
       "[1] 7"
      ]
     },
     "metadata": {},
     "output_type": "display_data"
    }
   ],
   "source": [
    "4+3"
   ]
  },
  {
   "cell_type": "code",
   "execution_count": 3,
   "id": "265925a8-24b1-497f-ad40-fb97d803ce77",
   "metadata": {},
   "outputs": [
    {
     "data": {
      "text/html": [
       "3"
      ],
      "text/latex": [
       "3"
      ],
      "text/markdown": [
       "3"
      ],
      "text/plain": [
       "[1] 3"
      ]
     },
     "metadata": {},
     "output_type": "display_data"
    }
   ],
   "source": [
    "4-1"
   ]
  },
  {
   "cell_type": "markdown",
   "id": "5acd0cf3-6792-4e36-8e68-79c022c09f93",
   "metadata": {},
   "source": [
    "There is special syntax for multiplication and division."
   ]
  },
  {
   "cell_type": "code",
   "execution_count": 4,
   "id": "b77555ea-1d89-4527-a565-5c1966606e2d",
   "metadata": {},
   "outputs": [
    {
     "data": {
      "text/html": [
       "9"
      ],
      "text/latex": [
       "9"
      ],
      "text/markdown": [
       "9"
      ],
      "text/plain": [
       "[1] 9"
      ]
     },
     "metadata": {},
     "output_type": "display_data"
    }
   ],
   "source": [
    "3*3"
   ]
  },
  {
   "cell_type": "code",
   "execution_count": 5,
   "id": "ef1d5efe-3dea-40dd-b96c-88ad80fb0a15",
   "metadata": {},
   "outputs": [
    {
     "data": {
      "text/html": [
       "3.8"
      ],
      "text/latex": [
       "3.8"
      ],
      "text/markdown": [
       "3.8"
      ],
      "text/plain": [
       "[1] 3.8"
      ]
     },
     "metadata": {},
     "output_type": "display_data"
    }
   ],
   "source": [
    "19/5"
   ]
  },
  {
   "cell_type": "markdown",
   "id": "74e06cd4-c9cc-46cd-91eb-154947ae895a",
   "metadata": {},
   "source": [
    "We can also assign numbers to variables and to operations."
   ]
  },
  {
   "cell_type": "code",
   "execution_count": 6,
   "id": "ffbb4db1-36f8-4371-b860-b9e1136b93b7",
   "metadata": {},
   "outputs": [],
   "source": [
    "A <- 3\n",
    "B <- 2\n",
    "C <- 53"
   ]
  },
  {
   "cell_type": "code",
   "execution_count": 7,
   "id": "b89959a4-ceaf-49dc-b772-e6016ed1bce6",
   "metadata": {},
   "outputs": [
    {
     "data": {
      "text/html": [
       "58"
      ],
      "text/latex": [
       "58"
      ],
      "text/markdown": [
       "58"
      ],
      "text/plain": [
       "[1] 58"
      ]
     },
     "metadata": {},
     "output_type": "display_data"
    }
   ],
   "source": [
    "sum(A,B,C)"
   ]
  },
  {
   "cell_type": "code",
   "execution_count": 9,
   "id": "8c958411-c1df-48e9-b561-8d0429eb8dcf",
   "metadata": {},
   "outputs": [
    {
     "data": {
      "text/html": [
       "5"
      ],
      "text/latex": [
       "5"
      ],
      "text/markdown": [
       "5"
      ],
      "text/plain": [
       "[1] 5"
      ]
     },
     "metadata": {},
     "output_type": "display_data"
    }
   ],
   "source": [
    "sqrt(25)"
   ]
  },
  {
   "cell_type": "markdown",
   "id": "e849af61-59e4-4c22-8359-93fbf214c73b",
   "metadata": {},
   "source": [
    "A function is just something with an input and an output."
   ]
  },
  {
   "cell_type": "code",
   "execution_count": null,
   "id": "61462036-ed36-4270-a768-fd130530865e",
   "metadata": {},
   "outputs": [],
   "source": []
  },
  {
   "cell_type": "code",
   "execution_count": null,
   "id": "c5260e87-8683-4e6b-91ab-383c9637aa76",
   "metadata": {},
   "outputs": [],
   "source": []
  },
  {
   "cell_type": "code",
   "execution_count": null,
   "id": "11c137cb-3fb2-4a4d-8b27-6b59f52739a9",
   "metadata": {},
   "outputs": [],
   "source": []
  },
  {
   "cell_type": "markdown",
   "id": "3e91f7cc-255b-48f4-ab57-eb7391ee4abb",
   "metadata": {},
   "source": [
    "# Part 2 - A bit more advanced"
   ]
  },
  {
   "cell_type": "markdown",
   "id": "248b1114-2884-4f05-bffc-56e160aea5cc",
   "metadata": {},
   "source": [
    "The nice thing about R is that unlike on a calculator, you can keep track of your operations. This is important for reproducing your work, and doing more complicated stuff. Let's look at some of this more complicated stuff!"
   ]
  },
  {
   "cell_type": "markdown",
   "id": "ac06ad57-0aeb-4026-94da-8c7c106cf4f5",
   "metadata": {},
   "source": [
    "We can assign lists of numbers to variables. This is called an array.\n",
    "'c' is just a function. It means 'concatenate'."
   ]
  },
  {
   "cell_type": "code",
   "execution_count": 11,
   "id": "4e6a29ac-95f4-4fb9-990b-8a62069bcd76",
   "metadata": {},
   "outputs": [],
   "source": [
    "A <- c(1,2,3,4,5)\n",
    "B <- c(2,2,2,2,2)"
   ]
  },
  {
   "cell_type": "markdown",
   "id": "c24e1454-776f-4daf-a99e-25200904b9ee",
   "metadata": {},
   "source": [
    "We can do operations on lists too, the same as for simpler variables.\n",
    "We can make a new variable in the process."
   ]
  },
  {
   "cell_type": "code",
   "execution_count": 13,
   "id": "aba7981c-75e6-4f6d-a5cf-9820890daa6b",
   "metadata": {},
   "outputs": [],
   "source": [
    "C <- A+B"
   ]
  },
  {
   "cell_type": "markdown",
   "id": "9bc9f880-9552-48c3-9e09-18c606f30a30",
   "metadata": {},
   "source": [
    "To see the output, you need to call the variable directly."
   ]
  },
  {
   "cell_type": "code",
   "execution_count": 14,
   "id": "2860fb03-b59f-414b-87a2-7f181486fee2",
   "metadata": {},
   "outputs": [
    {
     "data": {
      "text/html": [
       "<style>\n",
       ".list-inline {list-style: none; margin:0; padding: 0}\n",
       ".list-inline>li {display: inline-block}\n",
       ".list-inline>li:not(:last-child)::after {content: \"\\00b7\"; padding: 0 .5ex}\n",
       "</style>\n",
       "<ol class=list-inline><li>3</li><li>4</li><li>5</li><li>6</li><li>7</li></ol>\n"
      ],
      "text/latex": [
       "\\begin{enumerate*}\n",
       "\\item 3\n",
       "\\item 4\n",
       "\\item 5\n",
       "\\item 6\n",
       "\\item 7\n",
       "\\end{enumerate*}\n"
      ],
      "text/markdown": [
       "1. 3\n",
       "2. 4\n",
       "3. 5\n",
       "4. 6\n",
       "5. 7\n",
       "\n",
       "\n"
      ],
      "text/plain": [
       "[1] 3 4 5 6 7"
      ]
     },
     "metadata": {},
     "output_type": "display_data"
    }
   ],
   "source": [
    "C"
   ]
  },
  {
   "cell_type": "markdown",
   "id": "acfd0860-c27e-4e04-b5ba-ab599b7f9986",
   "metadata": {},
   "source": [
    "We can use other functions to make lists. We can make sequences..."
   ]
  },
  {
   "cell_type": "code",
   "execution_count": 16,
   "id": "df9fb366-73e2-41f9-95ae-dbb3c2cc57c3",
   "metadata": {},
   "outputs": [
    {
     "data": {
      "text/html": [
       "<style>\n",
       ".list-inline {list-style: none; margin:0; padding: 0}\n",
       ".list-inline>li {display: inline-block}\n",
       ".list-inline>li:not(:last-child)::after {content: \"\\00b7\"; padding: 0 .5ex}\n",
       "</style>\n",
       "<ol class=list-inline><li>1</li><li>2</li><li>3</li><li>4</li><li>5</li></ol>\n"
      ],
      "text/latex": [
       "\\begin{enumerate*}\n",
       "\\item 1\n",
       "\\item 2\n",
       "\\item 3\n",
       "\\item 4\n",
       "\\item 5\n",
       "\\end{enumerate*}\n"
      ],
      "text/markdown": [
       "1. 1\n",
       "2. 2\n",
       "3. 3\n",
       "4. 4\n",
       "5. 5\n",
       "\n",
       "\n"
      ],
      "text/plain": [
       "[1] 1 2 3 4 5"
      ]
     },
     "metadata": {},
     "output_type": "display_data"
    }
   ],
   "source": [
    "A <- seq(1, 5, 1)\n",
    "A"
   ]
  },
  {
   "cell_type": "markdown",
   "id": "2fb47e4b-4003-47a5-b65f-5eb3ce8450a6",
   "metadata": {},
   "source": [
    "...or repeat numbers"
   ]
  },
  {
   "cell_type": "code",
   "execution_count": 18,
   "id": "8a60419c-b130-421d-b220-41465cf63a47",
   "metadata": {},
   "outputs": [
    {
     "data": {
      "text/html": [
       "<style>\n",
       ".list-inline {list-style: none; margin:0; padding: 0}\n",
       ".list-inline>li {display: inline-block}\n",
       ".list-inline>li:not(:last-child)::after {content: \"\\00b7\"; padding: 0 .5ex}\n",
       "</style>\n",
       "<ol class=list-inline><li>2</li><li>2</li><li>2</li><li>2</li><li>2</li></ol>\n"
      ],
      "text/latex": [
       "\\begin{enumerate*}\n",
       "\\item 2\n",
       "\\item 2\n",
       "\\item 2\n",
       "\\item 2\n",
       "\\item 2\n",
       "\\end{enumerate*}\n"
      ],
      "text/markdown": [
       "1. 2\n",
       "2. 2\n",
       "3. 2\n",
       "4. 2\n",
       "5. 2\n",
       "\n",
       "\n"
      ],
      "text/plain": [
       "[1] 2 2 2 2 2"
      ]
     },
     "metadata": {},
     "output_type": "display_data"
    }
   ],
   "source": [
    "B <- rep(2, 5)\n",
    "B"
   ]
  },
  {
   "cell_type": "markdown",
   "id": "ceb4a06c-2759-42d7-b834-c66398ac717c",
   "metadata": {},
   "source": [
    "We can also generate random lists."
   ]
  },
  {
   "cell_type": "code",
   "execution_count": 19,
   "id": "a0b7baea-94b1-4e6e-8285-fb166af80ca8",
   "metadata": {},
   "outputs": [],
   "source": [
    "weight1 <- runif(30, 60, 120)\n",
    "weight2 <- runif(30, 80, 140)"
   ]
  },
  {
   "cell_type": "markdown",
   "id": "a9b41cdd-8549-426c-a63a-c48eaef7bebb",
   "metadata": {},
   "source": [
    "A uniform distribution is a probability distribution in which all outcomes are equally likely, resulting in a constant probability density across a specified interval."
   ]
  },
  {
   "cell_type": "markdown",
   "id": "79545d3b-fcaa-4cef-8c6b-ede5ac095ebe",
   "metadata": {},
   "source": [
    "If you are unsure about how a function works, there's a built-in way to get help:"
   ]
  },
  {
   "cell_type": "code",
   "execution_count": 20,
   "id": "f032b628-f242-4e9a-a621-b48c232cf34a",
   "metadata": {},
   "outputs": [
    {
     "data": {
      "text/html": [
       "\n",
       "<table style=\"width: 100%;\"><tr><td>Uniform {stats}</td><td style=\"text-align: right;\">R Documentation</td></tr></table>\n",
       "\n",
       "<h2>The Uniform Distribution</h2>\n",
       "\n",
       "<h3>Description</h3>\n",
       "\n",
       "<p>These functions provide information about the uniform distribution\n",
       "on the interval from <code>min</code> to <code>max</code>.  <code>dunif</code> gives the\n",
       "density, <code>punif</code> gives the distribution function <code>qunif</code>\n",
       "gives the quantile function and <code>runif</code> generates random\n",
       "deviates.\n",
       "</p>\n",
       "\n",
       "\n",
       "<h3>Usage</h3>\n",
       "\n",
       "<pre><code class='language-R'>dunif(x, min = 0, max = 1, log = FALSE)\n",
       "punif(q, min = 0, max = 1, lower.tail = TRUE, log.p = FALSE)\n",
       "qunif(p, min = 0, max = 1, lower.tail = TRUE, log.p = FALSE)\n",
       "runif(n, min = 0, max = 1)\n",
       "</code></pre>\n",
       "\n",
       "\n",
       "<h3>Arguments</h3>\n",
       "\n",
       "<table>\n",
       "<tr><td><code id=\"x\">x</code>, <code id=\"q\">q</code></td>\n",
       "<td>\n",
       "<p>vector of quantiles.</p>\n",
       "</td></tr>\n",
       "<tr><td><code id=\"p\">p</code></td>\n",
       "<td>\n",
       "<p>vector of probabilities.</p>\n",
       "</td></tr>\n",
       "<tr><td><code id=\"n\">n</code></td>\n",
       "<td>\n",
       "<p>number of observations. If <code>length(n) &gt; 1</code>, the length\n",
       "is taken to be the number required.</p>\n",
       "</td></tr>\n",
       "<tr><td><code id=\"min\">min</code>, <code id=\"max\">max</code></td>\n",
       "<td>\n",
       "<p>lower and upper limits of the distribution.  Must be finite.</p>\n",
       "</td></tr>\n",
       "<tr><td><code id=\"log\">log</code>, <code id=\"log.p\">log.p</code></td>\n",
       "<td>\n",
       "<p>logical; if TRUE, probabilities p are given as log(p).</p>\n",
       "</td></tr>\n",
       "<tr><td><code id=\"lower.tail\">lower.tail</code></td>\n",
       "<td>\n",
       "<p>logical; if TRUE (default), probabilities are\n",
       "<code class=\"reqn\">P[X \\le x]</code>, otherwise, <code class=\"reqn\">P[X &gt; x]</code>.</p>\n",
       "</td></tr>\n",
       "</table>\n",
       "\n",
       "\n",
       "<h3>Details</h3>\n",
       "\n",
       "<p>If <code>min</code> or <code>max</code> are not specified they assume the default\n",
       "values of <code>0</code> and <code>1</code> respectively.\n",
       "</p>\n",
       "<p>The uniform distribution has density\n",
       "</p>\n",
       "<p style=\"text-align: center;\"><code class=\"reqn\">f(x) = \\frac{1}{max-min}</code>\n",
       "</p>\n",
       "\n",
       "<p>for <code class=\"reqn\">min \\le x \\le max</code>.\n",
       "</p>\n",
       "<p>For the case of <code class=\"reqn\">u := min == max</code>, the limit case of\n",
       "<code class=\"reqn\">X \\equiv u</code> is assumed, although there is no density in\n",
       "that case and <code>dunif</code> will return <code>NaN</code> (the error condition).\n",
       "</p>\n",
       "<p><code>runif</code> will not generate either of the extreme values unless\n",
       "<code>max = min</code> or <code>max-min</code> is small compared to <code>min</code>,\n",
       "and in particular not for the default arguments.\n",
       "</p>\n",
       "\n",
       "\n",
       "<h3>Value</h3>\n",
       "\n",
       "<p><code>dunif</code> gives the density,\n",
       "<code>punif</code> gives the distribution function,\n",
       "<code>qunif</code> gives the quantile function, and\n",
       "<code>runif</code> generates random deviates.\n",
       "</p>\n",
       "<p>The length of the result is determined by <code>n</code> for\n",
       "<code>runif</code>, and is the maximum of the lengths of the\n",
       "numerical arguments for the other functions.  \n",
       "</p>\n",
       "<p>The numerical arguments other than <code>n</code> are recycled to the\n",
       "length of the result.  Only the first elements of the logical\n",
       "arguments are used.\n",
       "</p>\n",
       "\n",
       "\n",
       "<h3>Note</h3>\n",
       "\n",
       "<p>The characteristics of output from pseudo-random number generators\n",
       "(such as precision and periodicity) vary widely.  See\n",
       "<code>.Random.seed</code> for more information on <span class=\"rlang\"><b>R</b></span>'s random number\n",
       "generation algorithms.\n",
       "</p>\n",
       "\n",
       "\n",
       "<h3>References</h3>\n",
       "\n",
       "<p>Becker, R. A., Chambers, J. M. and Wilks, A. R. (1988)\n",
       "<em>The New S Language</em>.\n",
       "Wadsworth &amp; Brooks/Cole.\n",
       "</p>\n",
       "\n",
       "\n",
       "<h3>See Also</h3>\n",
       "\n",
       "<p><code>RNG</code> about random number generation in <span class=\"rlang\"><b>R</b></span>.\n",
       "</p>\n",
       "<p>Distributions for other standard distributions.\n",
       "</p>\n",
       "\n",
       "\n",
       "<h3>Examples</h3>\n",
       "\n",
       "<pre><code class='language-R'>u &lt;- runif(20)\n",
       "\n",
       "## The following relations always hold :\n",
       "punif(u) == u\n",
       "dunif(u) == 1\n",
       "\n",
       "var(runif(10000))  #- ~ = 1/12 = .08333\n",
       "</code></pre>\n",
       "\n",
       "<hr /><div style=\"text-align: center;\">[Package <em>stats</em> version 4.4.1 ]</div></main>\n",
       "\n",
       "</div>"
      ],
      "text/latex": [
       "\\inputencoding{utf8}\n",
       "\\HeaderA{Uniform}{The Uniform Distribution}{Uniform}\n",
       "\\aliasA{dunif}{Uniform}{dunif}\n",
       "\\aliasA{punif}{Uniform}{punif}\n",
       "\\aliasA{qunif}{Uniform}{qunif}\n",
       "\\aliasA{runif}{Uniform}{runif}\n",
       "\\keyword{distribution}{Uniform}\n",
       "%\n",
       "\\begin{Description}\n",
       "These functions provide information about the uniform distribution\n",
       "on the interval from \\code{min} to \\code{max}.  \\code{dunif} gives the\n",
       "density, \\code{punif} gives the distribution function \\code{qunif}\n",
       "gives the quantile function and \\code{runif} generates random\n",
       "deviates.\n",
       "\\end{Description}\n",
       "%\n",
       "\\begin{Usage}\n",
       "\\begin{verbatim}\n",
       "dunif(x, min = 0, max = 1, log = FALSE)\n",
       "punif(q, min = 0, max = 1, lower.tail = TRUE, log.p = FALSE)\n",
       "qunif(p, min = 0, max = 1, lower.tail = TRUE, log.p = FALSE)\n",
       "runif(n, min = 0, max = 1)\n",
       "\\end{verbatim}\n",
       "\\end{Usage}\n",
       "%\n",
       "\\begin{Arguments}\n",
       "\\begin{ldescription}\n",
       "\\item[\\code{x}, \\code{q}] vector of quantiles.\n",
       "\\item[\\code{p}] vector of probabilities.\n",
       "\\item[\\code{n}] number of observations. If \\code{length(n) > 1}, the length\n",
       "is taken to be the number required.\n",
       "\\item[\\code{min}, \\code{max}] lower and upper limits of the distribution.  Must be finite.\n",
       "\\item[\\code{log}, \\code{log.p}] logical; if TRUE, probabilities p are given as log(p).\n",
       "\\item[\\code{lower.tail}] logical; if TRUE (default), probabilities are\n",
       "\\eqn{P[X \\le x]}{}, otherwise, \\eqn{P[X > x]}{}.\n",
       "\\end{ldescription}\n",
       "\\end{Arguments}\n",
       "%\n",
       "\\begin{Details}\n",
       "If \\code{min} or \\code{max} are not specified they assume the default\n",
       "values of \\code{0} and \\code{1} respectively.\n",
       "\n",
       "The uniform distribution has density\n",
       "\\deqn{f(x) = \\frac{1}{max-min}}{}\n",
       "for \\eqn{min \\le x \\le max}{}.\n",
       "\n",
       "For the case of \\eqn{u := min == max}{}, the limit case of\n",
       "\\eqn{X \\equiv u}{} is assumed, although there is no density in\n",
       "that case and \\code{dunif} will return \\code{NaN} (the error condition).\n",
       "\n",
       "\\code{runif} will not generate either of the extreme values unless\n",
       "\\code{max = min} or \\code{max-min} is small compared to \\code{min},\n",
       "and in particular not for the default arguments.\n",
       "\\end{Details}\n",
       "%\n",
       "\\begin{Value}\n",
       "\\code{dunif} gives the density,\n",
       "\\code{punif} gives the distribution function,\n",
       "\\code{qunif} gives the quantile function, and\n",
       "\\code{runif} generates random deviates.\n",
       "\n",
       "The length of the result is determined by \\code{n} for\n",
       "\\code{runif}, and is the maximum of the lengths of the\n",
       "numerical arguments for the other functions.  \n",
       "\n",
       "The numerical arguments other than \\code{n} are recycled to the\n",
       "length of the result.  Only the first elements of the logical\n",
       "arguments are used.\n",
       "\\end{Value}\n",
       "%\n",
       "\\begin{Note}\n",
       "The characteristics of output from pseudo-random number generators\n",
       "(such as precision and periodicity) vary widely.  See\n",
       "\\code{\\LinkA{.Random.seed}{.Random.seed}} for more information on \\R{}'s random number\n",
       "generation algorithms.\n",
       "\\end{Note}\n",
       "%\n",
       "\\begin{References}\n",
       "Becker, R. A., Chambers, J. M. and Wilks, A. R. (1988)\n",
       "\\emph{The New S Language}.\n",
       "Wadsworth \\& Brooks/Cole.\n",
       "\\end{References}\n",
       "%\n",
       "\\begin{SeeAlso}\n",
       "\\code{\\LinkA{RNG}{RNG}} about random number generation in \\R{}.\n",
       "\n",
       "\\LinkA{Distributions}{Distributions} for other standard distributions.\n",
       "\\end{SeeAlso}\n",
       "%\n",
       "\\begin{Examples}\n",
       "\\begin{ExampleCode}\n",
       "u <- runif(20)\n",
       "\n",
       "## The following relations always hold :\n",
       "punif(u) == u\n",
       "dunif(u) == 1\n",
       "\n",
       "var(runif(10000))  #- ~ = 1/12 = .08333\n",
       "\\end{ExampleCode}\n",
       "\\end{Examples}"
      ],
      "text/plain": [
       "Uniform                 package:stats                  R Documentation\n",
       "\n",
       "_\bT_\bh_\be _\bU_\bn_\bi_\bf_\bo_\br_\bm _\bD_\bi_\bs_\bt_\br_\bi_\bb_\bu_\bt_\bi_\bo_\bn\n",
       "\n",
       "_\bD_\be_\bs_\bc_\br_\bi_\bp_\bt_\bi_\bo_\bn:\n",
       "\n",
       "     These functions provide information about the uniform distribution\n",
       "     on the interval from ‘min’ to ‘max’.  ‘dunif’ gives the density,\n",
       "     ‘punif’ gives the distribution function ‘qunif’ gives the quantile\n",
       "     function and ‘runif’ generates random deviates.\n",
       "\n",
       "_\bU_\bs_\ba_\bg_\be:\n",
       "\n",
       "     dunif(x, min = 0, max = 1, log = FALSE)\n",
       "     punif(q, min = 0, max = 1, lower.tail = TRUE, log.p = FALSE)\n",
       "     qunif(p, min = 0, max = 1, lower.tail = TRUE, log.p = FALSE)\n",
       "     runif(n, min = 0, max = 1)\n",
       "     \n",
       "_\bA_\br_\bg_\bu_\bm_\be_\bn_\bt_\bs:\n",
       "\n",
       "    x, q: vector of quantiles.\n",
       "\n",
       "       p: vector of probabilities.\n",
       "\n",
       "       n: number of observations. If ‘length(n) > 1’, the length is\n",
       "          taken to be the number required.\n",
       "\n",
       "min, max: lower and upper limits of the distribution.  Must be finite.\n",
       "\n",
       "log, log.p: logical; if TRUE, probabilities p are given as log(p).\n",
       "\n",
       "lower.tail: logical; if TRUE (default), probabilities are P[X <= x],\n",
       "          otherwise, P[X > x].\n",
       "\n",
       "_\bD_\be_\bt_\ba_\bi_\bl_\bs:\n",
       "\n",
       "     If ‘min’ or ‘max’ are not specified they assume the default values\n",
       "     of ‘0’ and ‘1’ respectively.\n",
       "\n",
       "     The uniform distribution has density\n",
       "\n",
       "                             f(x) = 1/(max-min)                         \n",
       "     \n",
       "     for min <= x <= max.\n",
       "\n",
       "     For the case of u := min == max, the limit case of X == u is\n",
       "     assumed, although there is no density in that case and ‘dunif’\n",
       "     will return ‘NaN’ (the error condition).\n",
       "\n",
       "     ‘runif’ will not generate either of the extreme values unless ‘max\n",
       "     = min’ or ‘max-min’ is small compared to ‘min’, and in particular\n",
       "     not for the default arguments.\n",
       "\n",
       "_\bV_\ba_\bl_\bu_\be:\n",
       "\n",
       "     ‘dunif’ gives the density, ‘punif’ gives the distribution\n",
       "     function, ‘qunif’ gives the quantile function, and ‘runif’\n",
       "     generates random deviates.\n",
       "\n",
       "     The length of the result is determined by ‘n’ for ‘runif’, and is\n",
       "     the maximum of the lengths of the numerical arguments for the\n",
       "     other functions.\n",
       "\n",
       "     The numerical arguments other than ‘n’ are recycled to the length\n",
       "     of the result.  Only the first elements of the logical arguments\n",
       "     are used.\n",
       "\n",
       "_\bN_\bo_\bt_\be:\n",
       "\n",
       "     The characteristics of output from pseudo-random number generators\n",
       "     (such as precision and periodicity) vary widely.  See\n",
       "     ‘.Random.seed’ for more information on R's random number\n",
       "     generation algorithms.\n",
       "\n",
       "_\bR_\be_\bf_\be_\br_\be_\bn_\bc_\be_\bs:\n",
       "\n",
       "     Becker, R. A., Chambers, J. M. and Wilks, A. R. (1988) _The New S\n",
       "     Language_.  Wadsworth & Brooks/Cole.\n",
       "\n",
       "_\bS_\be_\be _\bA_\bl_\bs_\bo:\n",
       "\n",
       "     ‘RNG’ about random number generation in R.\n",
       "\n",
       "     Distributions for other standard distributions.\n",
       "\n",
       "_\bE_\bx_\ba_\bm_\bp_\bl_\be_\bs:\n",
       "\n",
       "     u <- runif(20)\n",
       "     \n",
       "     ## The following relations always hold :\n",
       "     punif(u) == u\n",
       "     dunif(u) == 1\n",
       "     \n",
       "     var(runif(10000))  #- ~ = 1/12 = .08333\n",
       "     "
      ]
     },
     "metadata": {},
     "output_type": "display_data"
    }
   ],
   "source": [
    "?runif"
   ]
  },
  {
   "cell_type": "markdown",
   "id": "a2698634-aee6-4790-9067-9a70003b55cb",
   "metadata": {},
   "source": [
    "We don't have to use a uniform distribution. Actually, a normal distribution will be better. Let's do that instead."
   ]
  },
  {
   "cell_type": "code",
   "execution_count": 24,
   "id": "de4a1ed7-b9de-4d1c-aafb-f663ef593c78",
   "metadata": {},
   "outputs": [],
   "source": [
    "weight1 <- rnorm(30, 60, 10)\n",
    "weight2 <- rnorm(30, 80, 10)"
   ]
  },
  {
   "cell_type": "markdown",
   "id": "96fb9a30-367e-403a-8058-24b0715b1611",
   "metadata": {},
   "source": [
    "A normal distribution is a symmetric, bell-shaped probability distribution characterized by its mean and standard deviation, where approximately 68% of the data falls within one standard deviation of the mean."
   ]
  },
  {
   "cell_type": "markdown",
   "id": "a1468e8b-d238-4885-9d26-4502e6da5308",
   "metadata": {},
   "source": [
    "We can also make lists of words. This can be useful if our variables are categorical. "
   ]
  },
  {
   "cell_type": "code",
   "execution_count": 25,
   "id": "70879df2-7725-443e-8208-c4954b30a138",
   "metadata": {},
   "outputs": [],
   "source": [
    "species1 <- rep(\"Deer\", 30)\n",
    "species2 <- rep(\"Reindeer\", 30)"
   ]
  },
  {
   "cell_type": "markdown",
   "id": "7198b1e8-6298-4fb9-a319-f7f2f723d725",
   "metadata": {},
   "source": [
    "We can also manipulate arrays. This can be necessary for tidying data, and getting it into the right format. We can for example append one array to another. We just use the c() function for this."
   ]
  },
  {
   "cell_type": "code",
   "execution_count": 26,
   "id": "750d9402-c1cc-4866-a00b-3f0e75dfe402",
   "metadata": {},
   "outputs": [],
   "source": [
    "Weight <- c(weight1, weight2)\n",
    "Species <- c(species1, species2)"
   ]
  },
  {
   "cell_type": "markdown",
   "id": "987c336d-d560-4c57-9d87-eee75a342173",
   "metadata": {},
   "source": [
    "This gives us our weights and species as nice tidy data arrays. We can also organise our data into spreadsheets like excel. These are called data frames in R."
   ]
  },
  {
   "cell_type": "code",
   "execution_count": 27,
   "id": "03134980-2042-4ef6-92fa-930639259b9c",
   "metadata": {},
   "outputs": [],
   "source": [
    "DeerStudy <- data.frame(Weight, Species)"
   ]
  },
  {
   "cell_type": "markdown",
   "id": "21b1fbbc-a349-4d17-8452-81cec475d781",
   "metadata": {},
   "source": [
    "You can always take a look at the dataframe by calling it."
   ]
  },
  {
   "cell_type": "code",
   "execution_count": 30,
   "id": "024e2e50-5a68-49f5-8ca3-bf6271649f81",
   "metadata": {},
   "outputs": [
    {
     "data": {
      "text/html": [
       "<table class=\"dataframe\">\n",
       "<caption>A data.frame: 60 × 2</caption>\n",
       "<thead>\n",
       "\t<tr><th scope=col>Weight</th><th scope=col>Species</th></tr>\n",
       "\t<tr><th scope=col>&lt;dbl&gt;</th><th scope=col>&lt;chr&gt;</th></tr>\n",
       "</thead>\n",
       "<tbody>\n",
       "\t<tr><td>57.99409</td><td>Deer    </td></tr>\n",
       "\t<tr><td>57.40104</td><td>Deer    </td></tr>\n",
       "\t<tr><td>51.24189</td><td>Deer    </td></tr>\n",
       "\t<tr><td>53.46567</td><td>Deer    </td></tr>\n",
       "\t<tr><td>56.85269</td><td>Deer    </td></tr>\n",
       "\t<tr><td>47.54823</td><td>Deer    </td></tr>\n",
       "\t<tr><td>54.98038</td><td>Deer    </td></tr>\n",
       "\t<tr><td>67.00952</td><td>Deer    </td></tr>\n",
       "\t<tr><td>61.43189</td><td>Deer    </td></tr>\n",
       "\t<tr><td>45.70839</td><td>Deer    </td></tr>\n",
       "\t<tr><td>58.28518</td><td>Deer    </td></tr>\n",
       "\t<tr><td>65.05021</td><td>Deer    </td></tr>\n",
       "\t<tr><td>65.20023</td><td>Deer    </td></tr>\n",
       "\t<tr><td>47.38060</td><td>Deer    </td></tr>\n",
       "\t<tr><td>49.27689</td><td>Deer    </td></tr>\n",
       "\t<tr><td>66.04739</td><td>Deer    </td></tr>\n",
       "\t<tr><td>51.69485</td><td>Deer    </td></tr>\n",
       "\t<tr><td>70.78717</td><td>Deer    </td></tr>\n",
       "\t<tr><td>44.34302</td><td>Deer    </td></tr>\n",
       "\t<tr><td>53.77124</td><td>Deer    </td></tr>\n",
       "\t<tr><td>70.40965</td><td>Deer    </td></tr>\n",
       "\t<tr><td>69.47668</td><td>Deer    </td></tr>\n",
       "\t<tr><td>67.46550</td><td>Deer    </td></tr>\n",
       "\t<tr><td>56.09076</td><td>Deer    </td></tr>\n",
       "\t<tr><td>41.46089</td><td>Deer    </td></tr>\n",
       "\t<tr><td>80.73151</td><td>Deer    </td></tr>\n",
       "\t<tr><td>48.67634</td><td>Deer    </td></tr>\n",
       "\t<tr><td>69.00715</td><td>Deer    </td></tr>\n",
       "\t<tr><td>36.55066</td><td>Deer    </td></tr>\n",
       "\t<tr><td>81.69903</td><td>Deer    </td></tr>\n",
       "\t<tr><td>85.09578</td><td>Reindeer</td></tr>\n",
       "\t<tr><td>97.90210</td><td>Reindeer</td></tr>\n",
       "\t<tr><td>86.65663</td><td>Reindeer</td></tr>\n",
       "\t<tr><td>75.81268</td><td>Reindeer</td></tr>\n",
       "\t<tr><td>83.05207</td><td>Reindeer</td></tr>\n",
       "\t<tr><td>64.45294</td><td>Reindeer</td></tr>\n",
       "\t<tr><td>71.70984</td><td>Reindeer</td></tr>\n",
       "\t<tr><td>81.37443</td><td>Reindeer</td></tr>\n",
       "\t<tr><td>97.93957</td><td>Reindeer</td></tr>\n",
       "\t<tr><td>70.76384</td><td>Reindeer</td></tr>\n",
       "\t<tr><td>82.81914</td><td>Reindeer</td></tr>\n",
       "\t<tr><td>66.92648</td><td>Reindeer</td></tr>\n",
       "\t<tr><td>88.42822</td><td>Reindeer</td></tr>\n",
       "\t<tr><td>70.23583</td><td>Reindeer</td></tr>\n",
       "\t<tr><td>59.84565</td><td>Reindeer</td></tr>\n",
       "\t<tr><td>96.64002</td><td>Reindeer</td></tr>\n",
       "\t<tr><td>78.55152</td><td>Reindeer</td></tr>\n",
       "\t<tr><td>67.89856</td><td>Reindeer</td></tr>\n",
       "\t<tr><td>75.43760</td><td>Reindeer</td></tr>\n",
       "\t<tr><td>58.37980</td><td>Reindeer</td></tr>\n",
       "\t<tr><td>87.91231</td><td>Reindeer</td></tr>\n",
       "\t<tr><td>61.25421</td><td>Reindeer</td></tr>\n",
       "\t<tr><td>69.18944</td><td>Reindeer</td></tr>\n",
       "\t<tr><td>79.91847</td><td>Reindeer</td></tr>\n",
       "\t<tr><td>81.18253</td><td>Reindeer</td></tr>\n",
       "\t<tr><td>89.18839</td><td>Reindeer</td></tr>\n",
       "\t<tr><td>85.72290</td><td>Reindeer</td></tr>\n",
       "\t<tr><td>79.03475</td><td>Reindeer</td></tr>\n",
       "\t<tr><td>85.63119</td><td>Reindeer</td></tr>\n",
       "\t<tr><td>79.70212</td><td>Reindeer</td></tr>\n",
       "</tbody>\n",
       "</table>\n"
      ],
      "text/latex": [
       "A data.frame: 60 × 2\n",
       "\\begin{tabular}{ll}\n",
       " Weight & Species\\\\\n",
       " <dbl> & <chr>\\\\\n",
       "\\hline\n",
       "\t 57.99409 & Deer    \\\\\n",
       "\t 57.40104 & Deer    \\\\\n",
       "\t 51.24189 & Deer    \\\\\n",
       "\t 53.46567 & Deer    \\\\\n",
       "\t 56.85269 & Deer    \\\\\n",
       "\t 47.54823 & Deer    \\\\\n",
       "\t 54.98038 & Deer    \\\\\n",
       "\t 67.00952 & Deer    \\\\\n",
       "\t 61.43189 & Deer    \\\\\n",
       "\t 45.70839 & Deer    \\\\\n",
       "\t 58.28518 & Deer    \\\\\n",
       "\t 65.05021 & Deer    \\\\\n",
       "\t 65.20023 & Deer    \\\\\n",
       "\t 47.38060 & Deer    \\\\\n",
       "\t 49.27689 & Deer    \\\\\n",
       "\t 66.04739 & Deer    \\\\\n",
       "\t 51.69485 & Deer    \\\\\n",
       "\t 70.78717 & Deer    \\\\\n",
       "\t 44.34302 & Deer    \\\\\n",
       "\t 53.77124 & Deer    \\\\\n",
       "\t 70.40965 & Deer    \\\\\n",
       "\t 69.47668 & Deer    \\\\\n",
       "\t 67.46550 & Deer    \\\\\n",
       "\t 56.09076 & Deer    \\\\\n",
       "\t 41.46089 & Deer    \\\\\n",
       "\t 80.73151 & Deer    \\\\\n",
       "\t 48.67634 & Deer    \\\\\n",
       "\t 69.00715 & Deer    \\\\\n",
       "\t 36.55066 & Deer    \\\\\n",
       "\t 81.69903 & Deer    \\\\\n",
       "\t 85.09578 & Reindeer\\\\\n",
       "\t 97.90210 & Reindeer\\\\\n",
       "\t 86.65663 & Reindeer\\\\\n",
       "\t 75.81268 & Reindeer\\\\\n",
       "\t 83.05207 & Reindeer\\\\\n",
       "\t 64.45294 & Reindeer\\\\\n",
       "\t 71.70984 & Reindeer\\\\\n",
       "\t 81.37443 & Reindeer\\\\\n",
       "\t 97.93957 & Reindeer\\\\\n",
       "\t 70.76384 & Reindeer\\\\\n",
       "\t 82.81914 & Reindeer\\\\\n",
       "\t 66.92648 & Reindeer\\\\\n",
       "\t 88.42822 & Reindeer\\\\\n",
       "\t 70.23583 & Reindeer\\\\\n",
       "\t 59.84565 & Reindeer\\\\\n",
       "\t 96.64002 & Reindeer\\\\\n",
       "\t 78.55152 & Reindeer\\\\\n",
       "\t 67.89856 & Reindeer\\\\\n",
       "\t 75.43760 & Reindeer\\\\\n",
       "\t 58.37980 & Reindeer\\\\\n",
       "\t 87.91231 & Reindeer\\\\\n",
       "\t 61.25421 & Reindeer\\\\\n",
       "\t 69.18944 & Reindeer\\\\\n",
       "\t 79.91847 & Reindeer\\\\\n",
       "\t 81.18253 & Reindeer\\\\\n",
       "\t 89.18839 & Reindeer\\\\\n",
       "\t 85.72290 & Reindeer\\\\\n",
       "\t 79.03475 & Reindeer\\\\\n",
       "\t 85.63119 & Reindeer\\\\\n",
       "\t 79.70212 & Reindeer\\\\\n",
       "\\end{tabular}\n"
      ],
      "text/markdown": [
       "\n",
       "A data.frame: 60 × 2\n",
       "\n",
       "| Weight &lt;dbl&gt; | Species &lt;chr&gt; |\n",
       "|---|---|\n",
       "| 57.99409 | Deer     |\n",
       "| 57.40104 | Deer     |\n",
       "| 51.24189 | Deer     |\n",
       "| 53.46567 | Deer     |\n",
       "| 56.85269 | Deer     |\n",
       "| 47.54823 | Deer     |\n",
       "| 54.98038 | Deer     |\n",
       "| 67.00952 | Deer     |\n",
       "| 61.43189 | Deer     |\n",
       "| 45.70839 | Deer     |\n",
       "| 58.28518 | Deer     |\n",
       "| 65.05021 | Deer     |\n",
       "| 65.20023 | Deer     |\n",
       "| 47.38060 | Deer     |\n",
       "| 49.27689 | Deer     |\n",
       "| 66.04739 | Deer     |\n",
       "| 51.69485 | Deer     |\n",
       "| 70.78717 | Deer     |\n",
       "| 44.34302 | Deer     |\n",
       "| 53.77124 | Deer     |\n",
       "| 70.40965 | Deer     |\n",
       "| 69.47668 | Deer     |\n",
       "| 67.46550 | Deer     |\n",
       "| 56.09076 | Deer     |\n",
       "| 41.46089 | Deer     |\n",
       "| 80.73151 | Deer     |\n",
       "| 48.67634 | Deer     |\n",
       "| 69.00715 | Deer     |\n",
       "| 36.55066 | Deer     |\n",
       "| 81.69903 | Deer     |\n",
       "| 85.09578 | Reindeer |\n",
       "| 97.90210 | Reindeer |\n",
       "| 86.65663 | Reindeer |\n",
       "| 75.81268 | Reindeer |\n",
       "| 83.05207 | Reindeer |\n",
       "| 64.45294 | Reindeer |\n",
       "| 71.70984 | Reindeer |\n",
       "| 81.37443 | Reindeer |\n",
       "| 97.93957 | Reindeer |\n",
       "| 70.76384 | Reindeer |\n",
       "| 82.81914 | Reindeer |\n",
       "| 66.92648 | Reindeer |\n",
       "| 88.42822 | Reindeer |\n",
       "| 70.23583 | Reindeer |\n",
       "| 59.84565 | Reindeer |\n",
       "| 96.64002 | Reindeer |\n",
       "| 78.55152 | Reindeer |\n",
       "| 67.89856 | Reindeer |\n",
       "| 75.43760 | Reindeer |\n",
       "| 58.37980 | Reindeer |\n",
       "| 87.91231 | Reindeer |\n",
       "| 61.25421 | Reindeer |\n",
       "| 69.18944 | Reindeer |\n",
       "| 79.91847 | Reindeer |\n",
       "| 81.18253 | Reindeer |\n",
       "| 89.18839 | Reindeer |\n",
       "| 85.72290 | Reindeer |\n",
       "| 79.03475 | Reindeer |\n",
       "| 85.63119 | Reindeer |\n",
       "| 79.70212 | Reindeer |\n",
       "\n"
      ],
      "text/plain": [
       "   Weight   Species \n",
       "1  57.99409 Deer    \n",
       "2  57.40104 Deer    \n",
       "3  51.24189 Deer    \n",
       "4  53.46567 Deer    \n",
       "5  56.85269 Deer    \n",
       "6  47.54823 Deer    \n",
       "7  54.98038 Deer    \n",
       "8  67.00952 Deer    \n",
       "9  61.43189 Deer    \n",
       "10 45.70839 Deer    \n",
       "11 58.28518 Deer    \n",
       "12 65.05021 Deer    \n",
       "13 65.20023 Deer    \n",
       "14 47.38060 Deer    \n",
       "15 49.27689 Deer    \n",
       "16 66.04739 Deer    \n",
       "17 51.69485 Deer    \n",
       "18 70.78717 Deer    \n",
       "19 44.34302 Deer    \n",
       "20 53.77124 Deer    \n",
       "21 70.40965 Deer    \n",
       "22 69.47668 Deer    \n",
       "23 67.46550 Deer    \n",
       "24 56.09076 Deer    \n",
       "25 41.46089 Deer    \n",
       "26 80.73151 Deer    \n",
       "27 48.67634 Deer    \n",
       "28 69.00715 Deer    \n",
       "29 36.55066 Deer    \n",
       "30 81.69903 Deer    \n",
       "31 85.09578 Reindeer\n",
       "32 97.90210 Reindeer\n",
       "33 86.65663 Reindeer\n",
       "34 75.81268 Reindeer\n",
       "35 83.05207 Reindeer\n",
       "36 64.45294 Reindeer\n",
       "37 71.70984 Reindeer\n",
       "38 81.37443 Reindeer\n",
       "39 97.93957 Reindeer\n",
       "40 70.76384 Reindeer\n",
       "41 82.81914 Reindeer\n",
       "42 66.92648 Reindeer\n",
       "43 88.42822 Reindeer\n",
       "44 70.23583 Reindeer\n",
       "45 59.84565 Reindeer\n",
       "46 96.64002 Reindeer\n",
       "47 78.55152 Reindeer\n",
       "48 67.89856 Reindeer\n",
       "49 75.43760 Reindeer\n",
       "50 58.37980 Reindeer\n",
       "51 87.91231 Reindeer\n",
       "52 61.25421 Reindeer\n",
       "53 69.18944 Reindeer\n",
       "54 79.91847 Reindeer\n",
       "55 81.18253 Reindeer\n",
       "56 89.18839 Reindeer\n",
       "57 85.72290 Reindeer\n",
       "58 79.03475 Reindeer\n",
       "59 85.63119 Reindeer\n",
       "60 79.70212 Reindeer"
      ]
     },
     "metadata": {},
     "output_type": "display_data"
    }
   ],
   "source": [
    "DeerStudy"
   ]
  },
  {
   "cell_type": "markdown",
   "id": "9311c1ee-e60f-46b7-a56a-1e15095e59bc",
   "metadata": {},
   "source": [
    "We can look at just the top of this spreadsheet."
   ]
  },
  {
   "cell_type": "code",
   "execution_count": 31,
   "id": "10d529da-ef20-41b9-9ec7-908d2f6a4b69",
   "metadata": {},
   "outputs": [
    {
     "data": {
      "text/html": [
       "<table class=\"dataframe\">\n",
       "<caption>A data.frame: 6 × 2</caption>\n",
       "<thead>\n",
       "\t<tr><th></th><th scope=col>Weight</th><th scope=col>Species</th></tr>\n",
       "\t<tr><th></th><th scope=col>&lt;dbl&gt;</th><th scope=col>&lt;chr&gt;</th></tr>\n",
       "</thead>\n",
       "<tbody>\n",
       "\t<tr><th scope=row>1</th><td>57.99409</td><td>Deer</td></tr>\n",
       "\t<tr><th scope=row>2</th><td>57.40104</td><td>Deer</td></tr>\n",
       "\t<tr><th scope=row>3</th><td>51.24189</td><td>Deer</td></tr>\n",
       "\t<tr><th scope=row>4</th><td>53.46567</td><td>Deer</td></tr>\n",
       "\t<tr><th scope=row>5</th><td>56.85269</td><td>Deer</td></tr>\n",
       "\t<tr><th scope=row>6</th><td>47.54823</td><td>Deer</td></tr>\n",
       "</tbody>\n",
       "</table>\n"
      ],
      "text/latex": [
       "A data.frame: 6 × 2\n",
       "\\begin{tabular}{r|ll}\n",
       "  & Weight & Species\\\\\n",
       "  & <dbl> & <chr>\\\\\n",
       "\\hline\n",
       "\t1 & 57.99409 & Deer\\\\\n",
       "\t2 & 57.40104 & Deer\\\\\n",
       "\t3 & 51.24189 & Deer\\\\\n",
       "\t4 & 53.46567 & Deer\\\\\n",
       "\t5 & 56.85269 & Deer\\\\\n",
       "\t6 & 47.54823 & Deer\\\\\n",
       "\\end{tabular}\n"
      ],
      "text/markdown": [
       "\n",
       "A data.frame: 6 × 2\n",
       "\n",
       "| <!--/--> | Weight &lt;dbl&gt; | Species &lt;chr&gt; |\n",
       "|---|---|---|\n",
       "| 1 | 57.99409 | Deer |\n",
       "| 2 | 57.40104 | Deer |\n",
       "| 3 | 51.24189 | Deer |\n",
       "| 4 | 53.46567 | Deer |\n",
       "| 5 | 56.85269 | Deer |\n",
       "| 6 | 47.54823 | Deer |\n",
       "\n"
      ],
      "text/plain": [
       "  Weight   Species\n",
       "1 57.99409 Deer   \n",
       "2 57.40104 Deer   \n",
       "3 51.24189 Deer   \n",
       "4 53.46567 Deer   \n",
       "5 56.85269 Deer   \n",
       "6 47.54823 Deer   "
      ]
     },
     "metadata": {},
     "output_type": "display_data"
    }
   ],
   "source": [
    "head(DeerStudy)"
   ]
  },
  {
   "cell_type": "markdown",
   "id": "21dea1b3-09c3-40f1-91d0-896897eebb3b",
   "metadata": {},
   "source": [
    "We can also pick out specific variables to do stuff to. We use the '$' for this."
   ]
  },
  {
   "cell_type": "code",
   "execution_count": 32,
   "id": "eb8f3359-f073-4ba3-9ac2-0fa26f38e133",
   "metadata": {},
   "outputs": [
    {
     "data": {
      "text/html": [
       "<style>\n",
       ".list-inline {list-style: none; margin:0; padding: 0}\n",
       ".list-inline>li {display: inline-block}\n",
       ".list-inline>li:not(:last-child)::after {content: \"\\00b7\"; padding: 0 .5ex}\n",
       "</style>\n",
       "<ol class=list-inline><li>'Deer'</li><li>'Deer'</li><li>'Deer'</li><li>'Deer'</li><li>'Deer'</li><li>'Deer'</li><li>'Deer'</li><li>'Deer'</li><li>'Deer'</li><li>'Deer'</li><li>'Deer'</li><li>'Deer'</li><li>'Deer'</li><li>'Deer'</li><li>'Deer'</li><li>'Deer'</li><li>'Deer'</li><li>'Deer'</li><li>'Deer'</li><li>'Deer'</li><li>'Deer'</li><li>'Deer'</li><li>'Deer'</li><li>'Deer'</li><li>'Deer'</li><li>'Deer'</li><li>'Deer'</li><li>'Deer'</li><li>'Deer'</li><li>'Deer'</li><li>'Reindeer'</li><li>'Reindeer'</li><li>'Reindeer'</li><li>'Reindeer'</li><li>'Reindeer'</li><li>'Reindeer'</li><li>'Reindeer'</li><li>'Reindeer'</li><li>'Reindeer'</li><li>'Reindeer'</li><li>'Reindeer'</li><li>'Reindeer'</li><li>'Reindeer'</li><li>'Reindeer'</li><li>'Reindeer'</li><li>'Reindeer'</li><li>'Reindeer'</li><li>'Reindeer'</li><li>'Reindeer'</li><li>'Reindeer'</li><li>'Reindeer'</li><li>'Reindeer'</li><li>'Reindeer'</li><li>'Reindeer'</li><li>'Reindeer'</li><li>'Reindeer'</li><li>'Reindeer'</li><li>'Reindeer'</li><li>'Reindeer'</li><li>'Reindeer'</li></ol>\n"
      ],
      "text/latex": [
       "\\begin{enumerate*}\n",
       "\\item 'Deer'\n",
       "\\item 'Deer'\n",
       "\\item 'Deer'\n",
       "\\item 'Deer'\n",
       "\\item 'Deer'\n",
       "\\item 'Deer'\n",
       "\\item 'Deer'\n",
       "\\item 'Deer'\n",
       "\\item 'Deer'\n",
       "\\item 'Deer'\n",
       "\\item 'Deer'\n",
       "\\item 'Deer'\n",
       "\\item 'Deer'\n",
       "\\item 'Deer'\n",
       "\\item 'Deer'\n",
       "\\item 'Deer'\n",
       "\\item 'Deer'\n",
       "\\item 'Deer'\n",
       "\\item 'Deer'\n",
       "\\item 'Deer'\n",
       "\\item 'Deer'\n",
       "\\item 'Deer'\n",
       "\\item 'Deer'\n",
       "\\item 'Deer'\n",
       "\\item 'Deer'\n",
       "\\item 'Deer'\n",
       "\\item 'Deer'\n",
       "\\item 'Deer'\n",
       "\\item 'Deer'\n",
       "\\item 'Deer'\n",
       "\\item 'Reindeer'\n",
       "\\item 'Reindeer'\n",
       "\\item 'Reindeer'\n",
       "\\item 'Reindeer'\n",
       "\\item 'Reindeer'\n",
       "\\item 'Reindeer'\n",
       "\\item 'Reindeer'\n",
       "\\item 'Reindeer'\n",
       "\\item 'Reindeer'\n",
       "\\item 'Reindeer'\n",
       "\\item 'Reindeer'\n",
       "\\item 'Reindeer'\n",
       "\\item 'Reindeer'\n",
       "\\item 'Reindeer'\n",
       "\\item 'Reindeer'\n",
       "\\item 'Reindeer'\n",
       "\\item 'Reindeer'\n",
       "\\item 'Reindeer'\n",
       "\\item 'Reindeer'\n",
       "\\item 'Reindeer'\n",
       "\\item 'Reindeer'\n",
       "\\item 'Reindeer'\n",
       "\\item 'Reindeer'\n",
       "\\item 'Reindeer'\n",
       "\\item 'Reindeer'\n",
       "\\item 'Reindeer'\n",
       "\\item 'Reindeer'\n",
       "\\item 'Reindeer'\n",
       "\\item 'Reindeer'\n",
       "\\item 'Reindeer'\n",
       "\\end{enumerate*}\n"
      ],
      "text/markdown": [
       "1. 'Deer'\n",
       "2. 'Deer'\n",
       "3. 'Deer'\n",
       "4. 'Deer'\n",
       "5. 'Deer'\n",
       "6. 'Deer'\n",
       "7. 'Deer'\n",
       "8. 'Deer'\n",
       "9. 'Deer'\n",
       "10. 'Deer'\n",
       "11. 'Deer'\n",
       "12. 'Deer'\n",
       "13. 'Deer'\n",
       "14. 'Deer'\n",
       "15. 'Deer'\n",
       "16. 'Deer'\n",
       "17. 'Deer'\n",
       "18. 'Deer'\n",
       "19. 'Deer'\n",
       "20. 'Deer'\n",
       "21. 'Deer'\n",
       "22. 'Deer'\n",
       "23. 'Deer'\n",
       "24. 'Deer'\n",
       "25. 'Deer'\n",
       "26. 'Deer'\n",
       "27. 'Deer'\n",
       "28. 'Deer'\n",
       "29. 'Deer'\n",
       "30. 'Deer'\n",
       "31. 'Reindeer'\n",
       "32. 'Reindeer'\n",
       "33. 'Reindeer'\n",
       "34. 'Reindeer'\n",
       "35. 'Reindeer'\n",
       "36. 'Reindeer'\n",
       "37. 'Reindeer'\n",
       "38. 'Reindeer'\n",
       "39. 'Reindeer'\n",
       "40. 'Reindeer'\n",
       "41. 'Reindeer'\n",
       "42. 'Reindeer'\n",
       "43. 'Reindeer'\n",
       "44. 'Reindeer'\n",
       "45. 'Reindeer'\n",
       "46. 'Reindeer'\n",
       "47. 'Reindeer'\n",
       "48. 'Reindeer'\n",
       "49. 'Reindeer'\n",
       "50. 'Reindeer'\n",
       "51. 'Reindeer'\n",
       "52. 'Reindeer'\n",
       "53. 'Reindeer'\n",
       "54. 'Reindeer'\n",
       "55. 'Reindeer'\n",
       "56. 'Reindeer'\n",
       "57. 'Reindeer'\n",
       "58. 'Reindeer'\n",
       "59. 'Reindeer'\n",
       "60. 'Reindeer'\n",
       "\n",
       "\n"
      ],
      "text/plain": [
       " [1] \"Deer\"     \"Deer\"     \"Deer\"     \"Deer\"     \"Deer\"     \"Deer\"    \n",
       " [7] \"Deer\"     \"Deer\"     \"Deer\"     \"Deer\"     \"Deer\"     \"Deer\"    \n",
       "[13] \"Deer\"     \"Deer\"     \"Deer\"     \"Deer\"     \"Deer\"     \"Deer\"    \n",
       "[19] \"Deer\"     \"Deer\"     \"Deer\"     \"Deer\"     \"Deer\"     \"Deer\"    \n",
       "[25] \"Deer\"     \"Deer\"     \"Deer\"     \"Deer\"     \"Deer\"     \"Deer\"    \n",
       "[31] \"Reindeer\" \"Reindeer\" \"Reindeer\" \"Reindeer\" \"Reindeer\" \"Reindeer\"\n",
       "[37] \"Reindeer\" \"Reindeer\" \"Reindeer\" \"Reindeer\" \"Reindeer\" \"Reindeer\"\n",
       "[43] \"Reindeer\" \"Reindeer\" \"Reindeer\" \"Reindeer\" \"Reindeer\" \"Reindeer\"\n",
       "[49] \"Reindeer\" \"Reindeer\" \"Reindeer\" \"Reindeer\" \"Reindeer\" \"Reindeer\"\n",
       "[55] \"Reindeer\" \"Reindeer\" \"Reindeer\" \"Reindeer\" \"Reindeer\" \"Reindeer\""
      ]
     },
     "metadata": {},
     "output_type": "display_data"
    }
   ],
   "source": [
    "DeerStudy$Species"
   ]
  },
  {
   "cell_type": "markdown",
   "id": "fdc5873a-36a7-4862-9640-213902b19a78",
   "metadata": {},
   "source": [
    "We can also save our spreadsheet."
   ]
  },
  {
   "cell_type": "code",
   "execution_count": 34,
   "id": "7f598794-26c4-4f25-a274-049e1b5e5838",
   "metadata": {},
   "outputs": [],
   "source": [
    "save(DeerStudy, file = \"DeerStudy.RData\")"
   ]
  },
  {
   "cell_type": "markdown",
   "id": "372cb28c-dcc1-470f-af05-d0cc651d1b5e",
   "metadata": {},
   "source": [
    "# Part 3 - Basic plotting"
   ]
  },
  {
   "cell_type": "markdown",
   "id": "183f8f30-0e1f-45de-9999-f9b31e06b85a",
   "metadata": {},
   "source": [
    "Plotting is very important. It allows you to see relationships between variables. There are different kinds of plots that are useful for different kinds of relationships."
   ]
  },
  {
   "cell_type": "markdown",
   "id": "a17a5ec9-1a42-4ba2-bc41-15632b56468f",
   "metadata": {},
   "source": [
    "If you want to plot something very quickly, base R (when you don't download any extra packages) has some great options."
   ]
  },
  {
   "cell_type": "markdown",
   "id": "4e3d1012-0552-4e5a-9ad6-668825b31d60",
   "metadata": {},
   "source": [
    "To visualize the relationship between two continuous variables, you can use a scatterplot..."
   ]
  },
  {
   "cell_type": "code",
   "execution_count": 35,
   "id": "6d67b8a1-6a17-4e49-854e-a063fcf50a6f",
   "metadata": {},
   "outputs": [
    {
     "data": {
      "image/png": "[encoded data removed]",
      "text/plain": [
       "plot without title"
      ]
     },
     "metadata": {
      "image/png": {
       "height": 420,
       "width": 420
      }
     },
     "output_type": "display_data"
    }
   ],
   "source": [
    "plot(C~A)"
   ]
  },
  {
   "cell_type": "code",
   "execution_count": null,
   "id": "40ad0a16-c32f-4e96-b971-40cc6fb17f16",
   "metadata": {},
   "outputs": [],
   "source": []
  },
  {
   "cell_type": "markdown",
   "id": "2f4bd725-a55b-4052-bcbe-09e8c8e6b49b",
   "metadata": {},
   "source": [
    "... while boxplots tell you the relationship between categorical and continuous variables."
   ]
  },
  {
   "cell_type": "code",
   "execution_count": 37,
   "id": "544e77c0-1f05-4b15-9a01-97b2bfb32bd9",
   "metadata": {},
   "outputs": [
    {
     "data": {
      "image/png": "[encoded data removed]",
      "text/plain": [
       "plot without title"
      ]
     },
     "metadata": {
      "image/png": {
       "height": 420,
       "width": 420
      }
     },
     "output_type": "display_data"
    }
   ],
   "source": [
    "boxplot(Weight~Species)"
   ]
  },
  {
   "cell_type": "markdown",
   "id": "8a26b67a-2d29-4b1e-a4f7-a09c4fc99c95",
   "metadata": {},
   "source": [
    "The tilde \"~\" is important in R. It can be read to mean \"as a function of\", or \"distributed as\". You will see it again, and you will get used to it. This little syntactic difference is important, because it can allow us to make the same plot using different kinds of data structures. "
   ]
  },
  {
   "cell_type": "markdown",
   "id": "b69a4905-15de-4f77-8805-a12905fb2b9a",
   "metadata": {},
   "source": [
    "These plots are a bit ugly. Even base R can make beautiful plots, you can look at options to fancy plots up using the ?plot command."
   ]
  },
  {
   "cell_type": "markdown",
   "id": "45533359-55d9-494b-967b-d555b3ad2206",
   "metadata": {},
   "source": [
    "A lot of the R community uses a package called ggplot2 to plot. It is very well-documented online and has a lot of options for customization. Packages are like modules in Python. We'll talk a bit more about packages next class. For now, let's just install and load:"
   ]
  },
  {
   "cell_type": "code",
   "execution_count": 39,
   "id": "aabd77ff-acd8-409a-980d-67b97ef71e7d",
   "metadata": {
    "scrolled": true
   },
   "outputs": [
    {
     "name": "stderr",
     "output_type": "stream",
     "text": [
      "Installing package into ‘/usr/local/spark-3.5.2-bin-hadoop3/R/lib’\n",
      "(as ‘lib’ is unspecified)\n",
      "\n"
     ]
    }
   ],
   "source": [
    "install.packages(\"dplyr\")"
   ]
  },
  {
   "cell_type": "code",
   "execution_count": 40,
   "id": "f75d56cf-57b3-4789-b072-11a88be731f0",
   "metadata": {},
   "outputs": [
    {
     "name": "stderr",
     "output_type": "stream",
     "text": [
      "Installing package into ‘/usr/local/spark-3.5.2-bin-hadoop3/R/lib’\n",
      "(as ‘lib’ is unspecified)\n",
      "\n"
     ]
    }
   ],
   "source": [
    "install.packages(\"ggplot2\")"
   ]
  },
  {
   "cell_type": "code",
   "execution_count": 63,
   "id": "a3a9cf28-9973-42ef-bfd7-a0c82dacb1e3",
   "metadata": {},
   "outputs": [],
   "source": [
    "library(ggplot2)\n",
    "library(dplyr)"
   ]
  },
  {
   "cell_type": "markdown",
   "id": "8d84d33e-8796-44de-96b1-4b752be7fc62",
   "metadata": {},
   "source": [
    "ggplot2 is a very modular way of plotting. You give commands in a sequential order, and the output of one command is passed to the command with a '+' operator."
   ]
  },
  {
   "cell_type": "markdown",
   "id": "910c3e21-f8d0-43aa-98aa-61c7882eef3c",
   "metadata": {},
   "source": [
    "The first block (before the + sign) specifies the data we want to use and how we want to use it. Using + signs, we can add extra options, for example the style of plot. You can really go crazy with the customizations!"
   ]
  },
  {
   "cell_type": "code",
   "execution_count": 64,
   "id": "1f43c210-915c-437e-9417-1f40ef207ee6",
   "metadata": {},
   "outputs": [
    {
     "data": {
      "image/png": "[encoded data removed]",
      "text/plain": [
       "plot without title"
      ]
     },
     "metadata": {
      "image/png": {
       "height": 420,
       "width": 420
      }
     },
     "output_type": "display_data"
    }
   ],
   "source": [
    "ggplot(DeerStudy, \n",
    "       aes(x = Species, \n",
    "           y = Weight)) +\n",
    "    geom_boxplot()"
   ]
  },
  {
   "cell_type": "code",
   "execution_count": 68,
   "id": "bd80c20c-39c2-43eb-8981-b9c17a7c6e05",
   "metadata": {},
   "outputs": [
    {
     "data": {
      "image/png": "[encoded data removed]",
      "text/plain": [
       "plot without title"
      ]
     },
     "metadata": {
      "image/png": {
       "height": 420,
       "width": 420
      }
     },
     "output_type": "display_data"
    }
   ],
   "source": [
    "ggplot(DeerStudy, \n",
    "       aes(x = Species, \n",
    "           y = Weight,\n",
    "          fill = Species))+\n",
    "    geom_boxplot()+\n",
    "    scale_fill_manual(values = c(\"gold\", \"darkgreen\"))+\n",
    "    labs(title = \"Deer Weight\", \n",
    "        x = \"species\",\n",
    "        y = \"Weight (kg)\")+\n",
    "    theme_minimal()"
   ]
  },
  {
   "cell_type": "markdown",
   "id": "9295e5bb-1c71-4831-88f5-75d2166b2a01",
   "metadata": {},
   "source": [
    "There are several excellent resources for learning about ggplot2. Try to play around with them. For example: https://rstudio.github.io/cheatsheets/html/data-visualization.html"
   ]
  },
  {
   "cell_type": "markdown",
   "id": "3da06e77-614e-42da-b9cf-157a7fea72e3",
   "metadata": {},
   "source": [
    "You have encountered some basic plotting functions in R. You have learned the tilde operator. You have learned how to search the help documentation."
   ]
  },
  {
   "cell_type": "markdown",
   "id": "66fb8cb2-317b-4a2a-948d-8e449fc2651b",
   "metadata": {},
   "source": [
    "# Part 4 - Indexing and basic statistics"
   ]
  },
  {
   "cell_type": "markdown",
   "id": "50f48782-ca8d-435f-af20-6f01228c3a50",
   "metadata": {},
   "source": [
    "R is a statistical language, and so it has functions for running statistical operations and models."
   ]
  },
  {
   "cell_type": "markdown",
   "id": "3e477b15-ea0e-4643-8566-17f0a08d0dfc",
   "metadata": {},
   "source": [
    "We can calculate the average a of variable:"
   ]
  },
  {
   "cell_type": "code",
   "execution_count": 50,
   "id": "a6604c10-f68e-47fc-bed9-23bf9517abc6",
   "metadata": {},
   "outputs": [
    {
     "data": {
      "text/html": [
       "68.4282960248459"
      ],
      "text/latex": [
       "68.4282960248459"
      ],
      "text/markdown": [
       "68.4282960248459"
      ],
      "text/plain": [
       "[1] 68.4283"
      ]
     },
     "metadata": {},
     "output_type": "display_data"
    }
   ],
   "source": [
    "mean(DeerStudy$Weight)"
   ]
  },
  {
   "cell_type": "markdown",
   "id": "1d89257f-15ce-43ed-8f06-2d3d27661a62",
   "metadata": {},
   "source": [
    "Sometimes we are interested in sorting or carving our data up, and doing stats on a part of it. We can use indexing for this. For example, we might just want the average of each species in our study"
   ]
  },
  {
   "cell_type": "markdown",
   "id": "a56ecdb1-3f3e-466a-ba70-f9c324648a89",
   "metadata": {},
   "source": [
    "Let's look at how to extract weights for either just the Deers or the Reindeers in our study"
   ]
  },
  {
   "cell_type": "code",
   "execution_count": 71,
   "id": "9facde6b-0bcf-4f3f-8c63-21dd37d7b64d",
   "metadata": {},
   "outputs": [
    {
     "data": {
      "text/html": [
       "<style>\n",
       ".list-inline {list-style: none; margin:0; padding: 0}\n",
       ".list-inline>li {display: inline-block}\n",
       ".list-inline>li:not(:last-child)::after {content: \"\\00b7\"; padding: 0 .5ex}\n",
       "</style>\n",
       "<ol class=list-inline><li>57.994088517026</li><li>57.4010439601724</li><li>51.2418885285663</li><li>53.4656741233505</li><li>56.8526935337583</li><li>47.5482281525294</li><li>54.9803822156514</li><li>67.0095164378847</li><li>61.4318877643605</li><li>45.7083852794215</li><li>58.2851753253531</li><li>65.0502050327649</li><li>65.2002332247509</li><li>47.3806004567036</li><li>49.2768879935417</li><li>66.0473881806584</li><li>51.694854282841</li><li>70.7871702727897</li><li>44.3430246520947</li><li>53.7712362534905</li><li>70.4096516213885</li><li>69.4766823792556</li><li>67.4654953693354</li><li>56.090757295451</li><li>41.4608940542988</li><li>80.7315094643981</li><li>48.6763410886923</li><li>69.0071474785614</li><li>36.5506636080722</li><li>81.699033929571</li></ol>\n"
      ],
      "text/latex": [
       "\\begin{enumerate*}\n",
       "\\item 57.994088517026\n",
       "\\item 57.4010439601724\n",
       "\\item 51.2418885285663\n",
       "\\item 53.4656741233505\n",
       "\\item 56.8526935337583\n",
       "\\item 47.5482281525294\n",
       "\\item 54.9803822156514\n",
       "\\item 67.0095164378847\n",
       "\\item 61.4318877643605\n",
       "\\item 45.7083852794215\n",
       "\\item 58.2851753253531\n",
       "\\item 65.0502050327649\n",
       "\\item 65.2002332247509\n",
       "\\item 47.3806004567036\n",
       "\\item 49.2768879935417\n",
       "\\item 66.0473881806584\n",
       "\\item 51.694854282841\n",
       "\\item 70.7871702727897\n",
       "\\item 44.3430246520947\n",
       "\\item 53.7712362534905\n",
       "\\item 70.4096516213885\n",
       "\\item 69.4766823792556\n",
       "\\item 67.4654953693354\n",
       "\\item 56.090757295451\n",
       "\\item 41.4608940542988\n",
       "\\item 80.7315094643981\n",
       "\\item 48.6763410886923\n",
       "\\item 69.0071474785614\n",
       "\\item 36.5506636080722\n",
       "\\item 81.699033929571\n",
       "\\end{enumerate*}\n"
      ],
      "text/markdown": [
       "1. 57.994088517026\n",
       "2. 57.4010439601724\n",
       "3. 51.2418885285663\n",
       "4. 53.4656741233505\n",
       "5. 56.8526935337583\n",
       "6. 47.5482281525294\n",
       "7. 54.9803822156514\n",
       "8. 67.0095164378847\n",
       "9. 61.4318877643605\n",
       "10. 45.7083852794215\n",
       "11. 58.2851753253531\n",
       "12. 65.0502050327649\n",
       "13. 65.2002332247509\n",
       "14. 47.3806004567036\n",
       "15. 49.2768879935417\n",
       "16. 66.0473881806584\n",
       "17. 51.694854282841\n",
       "18. 70.7871702727897\n",
       "19. 44.3430246520947\n",
       "20. 53.7712362534905\n",
       "21. 70.4096516213885\n",
       "22. 69.4766823792556\n",
       "23. 67.4654953693354\n",
       "24. 56.090757295451\n",
       "25. 41.4608940542988\n",
       "26. 80.7315094643981\n",
       "27. 48.6763410886923\n",
       "28. 69.0071474785614\n",
       "29. 36.5506636080722\n",
       "30. 81.699033929571\n",
       "\n",
       "\n"
      ],
      "text/plain": [
       " [1] 57.99409 57.40104 51.24189 53.46567 56.85269 47.54823 54.98038 67.00952\n",
       " [9] 61.43189 45.70839 58.28518 65.05021 65.20023 47.38060 49.27689 66.04739\n",
       "[17] 51.69485 70.78717 44.34302 53.77124 70.40965 69.47668 67.46550 56.09076\n",
       "[25] 41.46089 80.73151 48.67634 69.00715 36.55066 81.69903"
      ]
     },
     "metadata": {},
     "output_type": "display_data"
    }
   ],
   "source": [
    "Weight[Species == \"Deer\"]\n"
   ]
  },
  {
   "cell_type": "markdown",
   "id": "57b547cd-5282-4214-a1a2-297ad830097f",
   "metadata": {},
   "source": [
    "...so that we can compare the average weight"
   ]
  },
  {
   "cell_type": "code",
   "execution_count": 72,
   "id": "9990886d-6ac5-4e29-85de-747d0ad4c3c1",
   "metadata": {},
   "outputs": [
    {
     "data": {
      "text/html": [
       "<style>\n",
       ".list-inline {list-style: none; margin:0; padding: 0}\n",
       ".list-inline>li {display: inline-block}\n",
       ".list-inline>li:not(:last-child)::after {content: \"\\00b7\"; padding: 0 .5ex}\n",
       "</style>\n",
       "<ol class=list-inline><li>85.0957813885768</li><li>97.9021007839515</li><li>86.6566331171676</li><li>75.812677291339</li><li>83.0520706772119</li><li>64.4529369212858</li><li>71.7098363641398</li><li>81.3744263236023</li><li>97.9395732112508</li><li>70.7638373833135</li><li>82.8191429072128</li><li>66.9264785927413</li><li>88.4282198713174</li><li>70.2358269710446</li><li>59.8456468388982</li><li>96.640023595318</li><li>78.5515231979894</li><li>67.8985566625325</li><li>75.4376040887265</li><li>58.3797951560921</li><li>87.9123130013995</li><li>61.2542141076357</li><li>69.1894354895567</li><li>79.9184738997237</li><li>81.1825302154832</li><li>89.1883934710271</li><li>85.7229011328382</li><li>79.0347545972575</li><li>85.631192961095</li><li>79.7021207942921</li></ol>\n"
      ],
      "text/latex": [
       "\\begin{enumerate*}\n",
       "\\item 85.0957813885768\n",
       "\\item 97.9021007839515\n",
       "\\item 86.6566331171676\n",
       "\\item 75.812677291339\n",
       "\\item 83.0520706772119\n",
       "\\item 64.4529369212858\n",
       "\\item 71.7098363641398\n",
       "\\item 81.3744263236023\n",
       "\\item 97.9395732112508\n",
       "\\item 70.7638373833135\n",
       "\\item 82.8191429072128\n",
       "\\item 66.9264785927413\n",
       "\\item 88.4282198713174\n",
       "\\item 70.2358269710446\n",
       "\\item 59.8456468388982\n",
       "\\item 96.640023595318\n",
       "\\item 78.5515231979894\n",
       "\\item 67.8985566625325\n",
       "\\item 75.4376040887265\n",
       "\\item 58.3797951560921\n",
       "\\item 87.9123130013995\n",
       "\\item 61.2542141076357\n",
       "\\item 69.1894354895567\n",
       "\\item 79.9184738997237\n",
       "\\item 81.1825302154832\n",
       "\\item 89.1883934710271\n",
       "\\item 85.7229011328382\n",
       "\\item 79.0347545972575\n",
       "\\item 85.631192961095\n",
       "\\item 79.7021207942921\n",
       "\\end{enumerate*}\n"
      ],
      "text/markdown": [
       "1. 85.0957813885768\n",
       "2. 97.9021007839515\n",
       "3. 86.6566331171676\n",
       "4. 75.812677291339\n",
       "5. 83.0520706772119\n",
       "6. 64.4529369212858\n",
       "7. 71.7098363641398\n",
       "8. 81.3744263236023\n",
       "9. 97.9395732112508\n",
       "10. 70.7638373833135\n",
       "11. 82.8191429072128\n",
       "12. 66.9264785927413\n",
       "13. 88.4282198713174\n",
       "14. 70.2358269710446\n",
       "15. 59.8456468388982\n",
       "16. 96.640023595318\n",
       "17. 78.5515231979894\n",
       "18. 67.8985566625325\n",
       "19. 75.4376040887265\n",
       "20. 58.3797951560921\n",
       "21. 87.9123130013995\n",
       "22. 61.2542141076357\n",
       "23. 69.1894354895567\n",
       "24. 79.9184738997237\n",
       "25. 81.1825302154832\n",
       "26. 89.1883934710271\n",
       "27. 85.7229011328382\n",
       "28. 79.0347545972575\n",
       "29. 85.631192961095\n",
       "30. 79.7021207942921\n",
       "\n",
       "\n"
      ],
      "text/plain": [
       " [1] 85.09578 97.90210 86.65663 75.81268 83.05207 64.45294 71.70984 81.37443\n",
       " [9] 97.93957 70.76384 82.81914 66.92648 88.42822 70.23583 59.84565 96.64002\n",
       "[17] 78.55152 67.89856 75.43760 58.37980 87.91231 61.25421 69.18944 79.91847\n",
       "[25] 81.18253 89.18839 85.72290 79.03475 85.63119 79.70212"
      ]
     },
     "metadata": {},
     "output_type": "display_data"
    }
   ],
   "source": [
    "Weight[Species == \"Reindeer\"]"
   ]
  },
  {
   "cell_type": "code",
   "execution_count": 73,
   "id": "6689c4fe-896a-4e30-b11c-6956925256bf",
   "metadata": {},
   "outputs": [
    {
     "data": {
      "text/html": [
       "58.2346246825578"
      ],
      "text/latex": [
       "58.2346246825578"
      ],
      "text/markdown": [
       "58.2346246825578"
      ],
      "text/plain": [
       "[1] 58.23462"
      ]
     },
     "metadata": {},
     "output_type": "display_data"
    }
   ],
   "source": [
    "mean(Weight[Species == \"Deer\"])"
   ]
  },
  {
   "cell_type": "code",
   "execution_count": 74,
   "id": "bc334a5c-45b7-4da0-b44d-ba3a7f4099a4",
   "metadata": {},
   "outputs": [
    {
     "data": {
      "text/html": [
       "78.621967367134"
      ],
      "text/latex": [
       "78.621967367134"
      ],
      "text/markdown": [
       "78.621967367134"
      ],
      "text/plain": [
       "[1] 78.62197"
      ]
     },
     "metadata": {},
     "output_type": "display_data"
    }
   ],
   "source": [
    "mean(Weight[Species == \"Reindeer\"])"
   ]
  },
  {
   "cell_type": "markdown",
   "id": "9f166575-3af4-4bff-9631-9916303268b5",
   "metadata": {},
   "source": [
    "Indexing is incredibly useful. You need to know it. But it is awkward for data frames. We can make a table instead using some basic data manipulation functions. This new table is a new data frame"
   ]
  },
  {
   "cell_type": "code",
   "execution_count": null,
   "id": "5cf24b76-ad38-4558-b685-1f0abb95f064",
   "metadata": {},
   "outputs": [],
   "source": []
  },
  {
   "cell_type": "code",
   "execution_count": null,
   "id": "91510085-e3e0-4206-8b29-6ebe57db237f",
   "metadata": {},
   "outputs": [],
   "source": [
    "\n",
    "meanTable <- DeerStudy %>% \n",
    "                group_by(Species) %>%\n",
    "                summarise(MeanWeight = mean(Weight)) "
   ]
  },
  {
   "cell_type": "markdown",
   "id": "f31aed63-90b9-497f-8baf-e034626dff8c",
   "metadata": {},
   "source": [
    "This is the exact same logic as with the plotting. First you define the data you are working on, then you sequentially operate on it. This is called \"piping\"."
   ]
  },
  {
   "cell_type": "markdown",
   "id": "cd8557f1-fb50-4db7-a6cc-834c89d809dd",
   "metadata": {},
   "source": [
    "The mean is only one statistic. We can also look at other statistics. How about the median?"
   ]
  },
  {
   "cell_type": "code",
   "execution_count": null,
   "id": "7184cb98-8833-4e9b-945d-73c6276a1e16",
   "metadata": {},
   "outputs": [],
   "source": []
  },
  {
   "cell_type": "code",
   "execution_count": null,
   "id": "edbc44e9-6df0-4ebe-8e99-f7afa84b17ea",
   "metadata": {},
   "outputs": [],
   "source": []
  },
  {
   "cell_type": "markdown",
   "id": "d83c236f-8520-4227-aa14-459142bd1c0a",
   "metadata": {},
   "source": [
    "We can also look at the standard deviation."
   ]
  },
  {
   "cell_type": "code",
   "execution_count": null,
   "id": "a56f9cc9-7436-4384-8568-5d171d4b3efb",
   "metadata": {},
   "outputs": [],
   "source": []
  },
  {
   "cell_type": "code",
   "execution_count": null,
   "id": "36645a7d-b6fc-41e8-bacc-3e748ab937e0",
   "metadata": {},
   "outputs": [],
   "source": []
  },
  {
   "cell_type": "markdown",
   "id": "7d9851c2-683b-4162-8228-8ca6df4e8645",
   "metadata": {},
   "source": [
    "Now we are almost ready to do some statistics. We will cover statistical concepts in the next lecture. BUt as a teaser, let's look at a quick comparison, and see if these means are really different."
   ]
  },
  {
   "cell_type": "code",
   "execution_count": null,
   "id": "34100bd1-d979-4fd9-a31b-c552ab8cd97c",
   "metadata": {},
   "outputs": [],
   "source": []
  },
  {
   "cell_type": "markdown",
   "id": "504a0793-73b2-481f-95ec-1f32b062a737",
   "metadata": {},
   "source": [
    "You have learned about indexing. You have learned about basic statistical functions. You have learned how to generate summary tables. You have run your first statistical simulation, and your first hypothesis test."
   ]
  }
 ],
 "metadata": {
  "kernelspec": {
   "display_name": "R",
   "language": "R",
   "name": "ir"
  },
  "language_info": {
   "codemirror_mode": "r",
   "file_extension": ".r",
   "mimetype": "text/x-r-source",
   "name": "R",
   "pygments_lexer": "r",
   "version": "4.4.1"
  }
 },
 "nbformat": 4,
 "nbformat_minor": 5
}
